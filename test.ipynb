{
 "cells": [
  {
   "cell_type": "code",
   "execution_count": 3,
   "metadata": {},
   "outputs": [],
   "source": [
    "import requests"
   ]
  },
  {
   "cell_type": "code",
   "execution_count": 15,
   "metadata": {},
   "outputs": [],
   "source": [
    "from selenium import webdriver\n",
    "from selenium.webdriver.chrome.service import Service\n",
    "\n",
    "\n",
    "def get_chrome_driver(\n",
    "    path,\n",
    "    driver_path=\"/lab/dee/devcourse/catch-me-my-capital/plugins/chromedriver-linux64/chromedriver\",\n",
    "):\n",
    "    chrome_prefs = {\n",
    "        \"download.default_directory\": path,\n",
    "        \"download.prompt_for_download\": False,\n",
    "        \"download.directory_upgrade\": True,\n",
    "    }\n",
    "    options = webdriver.ChromeOptions()\n",
    "    options.add_experimental_option(\"prefs\", chrome_prefs)\n",
    "    options.add_argument(\"--headless\")\n",
    "    options.add_argument(\"--disable-dev-shm-usage\")  # Avoid shared memory issues\n",
    "    options.add_argument(\"--no-sandbox\")  # Required for running as root in containers\n",
    "    options.add_argument(\"--disable-gpu\")  # Disable GPU (useful\n",
    "    options.add_argument(\n",
    "        \"user-agent=Mozilla/5.0 (Windows NT 10.0; Win64; x64) AppleWebKit/537.36 (KHTML, like Gecko) Chrome/91.0.4472.124 Safari/537.36\"\n",
    "    )  # Mimic real browser\n",
    "    service = Service(driver_path)\n",
    "    driver = webdriver.Chrome(service=service, options=options)\n",
    "\n",
    "    return driver"
   ]
  },
  {
   "cell_type": "code",
   "execution_count": 19,
   "metadata": {},
   "outputs": [],
   "source": [
    "import requests\n",
    "\n",
    "url = \"https://markets.businessinsider.com/bonds/korea-_republikdl-notes_202429-bond-2029-us50064fax24?miRedirects=1\"\n",
    "res = requests.get(url)"
   ]
  },
  {
   "cell_type": "code",
   "execution_count": 34,
   "metadata": {},
   "outputs": [],
   "source": [
    "import time\n",
    "\n",
    "from selenium.webdriver.common.by import By\n",
    "from selenium.webdriver.support import expected_conditions as EC\n",
    "from selenium.webdriver.support.ui import WebDriverWait"
   ]
  },
  {
   "cell_type": "code",
   "execution_count": null,
   "metadata": {},
   "outputs": [],
   "source": [
    "!pip install bs4"
   ]
  },
  {
   "cell_type": "code",
   "execution_count": null,
   "metadata": {},
   "outputs": [],
   "source": [
    "with get_chrome_driver(\"./\") as driver:\n",
    "    driver.get(url)\n",
    "    time.sleep(2)\n",
    "    wait = WebDriverWait(driver, 10)\n",
    "    table = wait.until(\n",
    "        EC.visibility_of_element_located(\n",
    "            (\n",
    "                By.XPATH,\n",
    "                \"/html/body/main/div[2]/div[4]/div[2]/div/div/div[1]/div[2]/div/div/div/table\",\n",
    "            )\n",
    "        )\n",
    "    )\n",
    "    print(table)"
   ]
  },
  {
   "cell_type": "code",
   "execution_count": 47,
   "metadata": {},
   "outputs": [],
   "source": [
    "from bs4 import BeautifulSoup"
   ]
  },
  {
   "cell_type": "code",
   "execution_count": 48,
   "metadata": {},
   "outputs": [],
   "source": [
    "res = requests.get(url)\n",
    "soup = BeautifulSoup(res.text, \"html.parser\")\n",
    "table = soup.find(\"table\")"
   ]
  },
  {
   "cell_type": "code",
   "execution_count": null,
   "metadata": {},
   "outputs": [],
   "source": [
    "data = {}\n",
    "for row in table.find_all(\"tr\"):\n",
    "    cols = row.find_all(\"td\")\n",
    "    if len(cols) == 2:\n",
    "        header = cols[0].text.strip()\n",
    "        content = cols[1].text.strip()\n",
    "        data[header] = data.get(header, content)\n",
    "data"
   ]
  },
  {
   "cell_type": "code",
   "execution_count": 69,
   "metadata": {},
   "outputs": [
    {
     "data": {
      "text/plain": [
       "defaultdict(list, {'a': [1], 'b': [2]})"
      ]
     },
     "execution_count": 69,
     "metadata": {},
     "output_type": "execute_result"
    }
   ],
   "source": [
    "from collections import defaultdict\n",
    "\n",
    "a = defaultdict(list)\n",
    "a[\"a\"].append(1)\n",
    "a[\"b\"].append(2)\n",
    "a"
   ]
  },
  {
   "cell_type": "code",
   "execution_count": 85,
   "metadata": {},
   "outputs": [],
   "source": [
    "response = requests.get(\n",
    "    \"https://markets.businessinsider.com/Ajax/Chart_GetChartData?instrumentType=InterestRate&tkData=1,2329312,3216,333&from=20241201&to=20241224\"\n",
    ")\n",
    "gbd = defaultdict(list)\n",
    "for rec in response.json():\n",
    "    date = rec[\"Date\"]\n",
    "    gbd[date[:10]].append(rec)"
   ]
  },
  {
   "cell_type": "code",
   "execution_count": 91,
   "metadata": {},
   "outputs": [],
   "source": [
    "import json"
   ]
  },
  {
   "cell_type": "code",
   "execution_count": 95,
   "metadata": {},
   "outputs": [
    {
     "name": "stdout",
     "output_type": "stream",
     "text": [
      "[{\"Close\": 4.37, \"Open\": 4.395, \"High\": 4.395, \"Low\": 4.37, \"Volume\": 0, \"Estimate\": 0, \"Date\": \"2024-12-02 00:14\"}, {\"Close\": 4.365, \"Open\": 4.375, \"High\": 4.375, \"Low\": 4.365, \"Volume\": 0, \"Estimate\": 0, \"Date\": \"2024-12-02 00:29\"}, {\"Close\": 4.375, \"Open\": 4.375, \"High\": 4.375, \"Low\": 4.375, \"Volume\": 0, \"Estimate\": 0, \"Date\": \"2024-12-02 00:44\"}, {\"Close\": 4.375, \"Open\": 4.365, \"High\": 4.375, \"Low\": 4.355, \"Volume\": 0, \"Estimate\": 0, \"Date\": \"2024-12-02 00:59\"}, {\"Close\": 4.375, \"Open\": 4.385, \"High\": 4.385, \"Low\": 4.375, \"Volume\": 0, \"Estimate\": 0, \"Date\": \"2024-12-02 01:14\"}, {\"Close\": 4.375, \"Open\": 4.38, \"High\": 4.38, \"Low\": 4.375, \"Volume\": 0, \"Estimate\": 0, \"Date\": \"2024-12-02 01:44\"}, {\"Close\": 4.375, \"Open\": 4.38, \"High\": 4.38, \"Low\": 4.375, \"Volume\": 0, \"Estimate\": 0, \"Date\": \"2024-12-02 02:29\"}, {\"Close\": 4.375, \"Open\": 4.38, \"High\": 4.38, \"Low\": 4.375, \"Volume\": 0, \"Estimate\": 0, \"Date\": \"2024-12-02 02:44\"}, {\"Close\": 4.375, \"Open\": 4.37, \"High\": 4.375, \"Low\": 4.37, \"Volume\": 0, \"Estimate\": 0, \"Date\": \"2024-12-02 03:14\"}, {\"Close\": 4.375, \"Open\": 4.38, \"High\": 4.38, \"Low\": 4.375, \"Volume\": 0, \"Estimate\": 0, \"Date\": \"2024-12-02 03:59\"}, {\"Close\": 4.375, \"Open\": 4.385, \"High\": 4.385, \"Low\": 4.375, \"Volume\": 0, \"Estimate\": 0, \"Date\": \"2024-12-02 04:29\"}, {\"Close\": 4.375, \"Open\": 4.37, \"High\": 4.375, \"Low\": 4.37, \"Volume\": 0, \"Estimate\": 0, \"Date\": \"2024-12-02 04:44\"}, {\"Close\": 4.375, \"Open\": 4.37, \"High\": 4.375, \"Low\": 4.37, \"Volume\": 0, \"Estimate\": 0, \"Date\": \"2024-12-02 04:59\"}, {\"Close\": 4.375, \"Open\": 4.38, \"High\": 4.38, \"Low\": 4.375, \"Volume\": 0, \"Estimate\": 0, \"Date\": \"2024-12-02 05:29\"}, {\"Close\": 4.375, \"Open\": 4.38, \"High\": 4.38, \"Low\": 4.375, \"Volume\": 0, \"Estimate\": 0, \"Date\": \"2024-12-02 06:14\"}, {\"Close\": 4.38, \"Open\": 4.4, \"High\": 4.4, \"Low\": 4.38, \"Volume\": 0, \"Estimate\": 0, \"Date\": \"2024-12-02 07:14\"}, {\"Close\": 4.385, \"Open\": 4.385, \"High\": 4.385, \"Low\": 4.38, \"Volume\": 0, \"Estimate\": 0, \"Date\": \"2024-12-02 07:29\"}, {\"Close\": 4.38, \"Open\": 4.38, \"High\": 4.385, \"Low\": 4.38, \"Volume\": 0, \"Estimate\": 0, \"Date\": \"2024-12-02 07:44\"}, {\"Close\": 4.375, \"Open\": 4.385, \"High\": 4.39, \"Low\": 4.375, \"Volume\": 0, \"Estimate\": 0, \"Date\": \"2024-12-02 07:59\"}, {\"Close\": 4.38, \"Open\": 4.38, \"High\": 4.38, \"Low\": 4.38, \"Volume\": 0, \"Estimate\": 0, \"Date\": \"2024-12-02 08:44\"}, {\"Close\": 4.385, \"Open\": 4.385, \"High\": 4.385, \"Low\": 4.385, \"Volume\": 0, \"Estimate\": 0, \"Date\": \"2024-12-02 10:29\"}, {\"Close\": 4.385, \"Open\": 4.4, \"High\": 4.4, \"Low\": 4.38, \"Volume\": 0, \"Estimate\": 0, \"Date\": \"2024-12-02 11:14\"}, {\"Close\": 4.38, \"Open\": 4.38, \"High\": 4.38, \"Low\": 4.38, \"Volume\": 0, \"Estimate\": 0, \"Date\": \"2024-12-02 11:29\"}, {\"Close\": 4.38, \"Open\": 4.4, \"High\": 4.4, \"Low\": 4.38, \"Volume\": 0, \"Estimate\": 0, \"Date\": \"2024-12-02 11:44\"}, {\"Close\": 4.38, \"Open\": 4.4, \"High\": 4.4, \"Low\": 4.38, \"Volume\": 0, \"Estimate\": 0, \"Date\": \"2024-12-02 12:14\"}, {\"Close\": 4.38, \"Open\": 4.375, \"High\": 4.38, \"Low\": 4.375, \"Volume\": 0, \"Estimate\": 0, \"Date\": \"2024-12-02 12:29\"}, {\"Close\": 4.375, \"Open\": 4.375, \"High\": 4.38, \"Low\": 4.375, \"Volume\": 0, \"Estimate\": 0, \"Date\": \"2024-12-02 12:44\"}, {\"Close\": 4.375, \"Open\": 4.4, \"High\": 4.4, \"Low\": 4.375, \"Volume\": 0, \"Estimate\": 0, \"Date\": \"2024-12-02 12:59\"}, {\"Close\": 4.375, \"Open\": 4.38, \"High\": 4.4, \"Low\": 4.375, \"Volume\": 0, \"Estimate\": 0, \"Date\": \"2024-12-02 13:14\"}, {\"Close\": 4.38, \"Open\": 4.38, \"High\": 4.38, \"Low\": 4.375, \"Volume\": 0, \"Estimate\": 0, \"Date\": \"2024-12-02 13:29\"}, {\"Close\": 4.395, \"Open\": 4.395, \"High\": 4.395, \"Low\": 4.395, \"Volume\": 0, \"Estimate\": 0, \"Date\": \"2024-12-02 13:59\"}, {\"Close\": 4.38, \"Open\": 4.38, \"High\": 4.38, \"Low\": 4.38, \"Volume\": 0, \"Estimate\": 0, \"Date\": \"2024-12-02 16:29\"}, {\"Close\": 4.37, \"Open\": 4.37, \"High\": 4.37, \"Low\": 4.37, \"Volume\": 0, \"Estimate\": 0, \"Date\": \"2024-12-02 20:29\"}, {\"Close\": 4.36, \"Open\": 4.36, \"High\": 4.36, \"Low\": 4.36, \"Volume\": 0, \"Estimate\": 0, \"Date\": \"2024-12-02 23:44\"}, {\"Close\": 4.35, \"Open\": 4.36, \"High\": 4.385, \"Low\": 4.35, \"Volume\": 0, \"Estimate\": 0, \"Date\": \"2024-12-02 23:59\"}]\n"
     ]
    }
   ],
   "source": [
    "i = 0\n",
    "for date, daily_list in gbd.items():\n",
    "    if i == 1:\n",
    "        print(json.dumps(daily_list))\n",
    "    i += 1\n",
    "    if i == 2:\n",
    "        break"
   ]
  }
 ],
 "metadata": {
  "kernelspec": {
   "display_name": ".venv",
   "language": "python",
   "name": "python3"
  },
  "language_info": {
   "codemirror_mode": {
    "name": "ipython",
    "version": 3
   },
   "file_extension": ".py",
   "mimetype": "text/x-python",
   "name": "python",
   "nbconvert_exporter": "python",
   "pygments_lexer": "ipython3",
   "version": "3.12.7"
  }
 },
 "nbformat": 4,
 "nbformat_minor": 2
}
